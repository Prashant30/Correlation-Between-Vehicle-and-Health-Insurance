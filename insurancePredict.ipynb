{
  "nbformat": 4,
  "nbformat_minor": 0,
  "metadata": {
    "colab": {
      "name": "insurancePredict.ipynb",
      "provenance": []
    },
    "kernelspec": {
      "name": "python3",
      "display_name": "Python 3"
    }
  },
  "cells": [
    {
      "cell_type": "code",
      "metadata": {
        "id": "ht6rp5R2jId4"
      },
      "source": [
        "# importing important libraries and packages\n",
        "import numpy as np\n",
        "import pandas as pd\n",
        "from sklearn.model_selection import train_test_split\n",
        "from sklearn.metrics import classification_report\n",
        "from sklearn.metrics import mean_squared_error\n",
        "import matplotlib.pyplot as plt\n",
        "import seaborn as sns\n",
        "from sklearn import  metrics, model_selection\n",
        "from xgboost.sklearn import XGBClassifier\n"
      ],
      "execution_count": null,
      "outputs": []
    },
    {
      "cell_type": "code",
      "metadata": {
        "id": "Wm5LPAjJjoul",
        "outputId": "ae5336e2-61eb-4f7e-d3b6-0f907a419898",
        "colab": {
          "base_uri": "https://localhost:8080/",
          "height": 215
        }
      },
      "source": [
        "insu = pd.DataFrame(pd.read_csv(\"/content/sample_data/train.csv\"))\n",
        "insu.head()"
      ],
      "execution_count": null,
      "outputs": [
        {
          "output_type": "execute_result",
          "data": {
            "text/html": [
              "<div>\n",
              "<style scoped>\n",
              "    .dataframe tbody tr th:only-of-type {\n",
              "        vertical-align: middle;\n",
              "    }\n",
              "\n",
              "    .dataframe tbody tr th {\n",
              "        vertical-align: top;\n",
              "    }\n",
              "\n",
              "    .dataframe thead th {\n",
              "        text-align: right;\n",
              "    }\n",
              "</style>\n",
              "<table border=\"1\" class=\"dataframe\">\n",
              "  <thead>\n",
              "    <tr style=\"text-align: right;\">\n",
              "      <th></th>\n",
              "      <th>id</th>\n",
              "      <th>Gender</th>\n",
              "      <th>Age</th>\n",
              "      <th>Driving_License</th>\n",
              "      <th>Region_Code</th>\n",
              "      <th>Previously_Insured</th>\n",
              "      <th>Vehicle_Age</th>\n",
              "      <th>Vehicle_Damage</th>\n",
              "      <th>Annual_Premium</th>\n",
              "      <th>Policy_Sales_Channel</th>\n",
              "      <th>Vintage</th>\n",
              "      <th>Response</th>\n",
              "    </tr>\n",
              "  </thead>\n",
              "  <tbody>\n",
              "    <tr>\n",
              "      <th>0</th>\n",
              "      <td>1</td>\n",
              "      <td>Male</td>\n",
              "      <td>44</td>\n",
              "      <td>1</td>\n",
              "      <td>28.0</td>\n",
              "      <td>0</td>\n",
              "      <td>&gt; 2 Years</td>\n",
              "      <td>Yes</td>\n",
              "      <td>40454.0</td>\n",
              "      <td>26.0</td>\n",
              "      <td>217</td>\n",
              "      <td>1</td>\n",
              "    </tr>\n",
              "    <tr>\n",
              "      <th>1</th>\n",
              "      <td>2</td>\n",
              "      <td>Male</td>\n",
              "      <td>76</td>\n",
              "      <td>1</td>\n",
              "      <td>3.0</td>\n",
              "      <td>0</td>\n",
              "      <td>1-2 Year</td>\n",
              "      <td>No</td>\n",
              "      <td>33536.0</td>\n",
              "      <td>26.0</td>\n",
              "      <td>183</td>\n",
              "      <td>0</td>\n",
              "    </tr>\n",
              "    <tr>\n",
              "      <th>2</th>\n",
              "      <td>3</td>\n",
              "      <td>Male</td>\n",
              "      <td>47</td>\n",
              "      <td>1</td>\n",
              "      <td>28.0</td>\n",
              "      <td>0</td>\n",
              "      <td>&gt; 2 Years</td>\n",
              "      <td>Yes</td>\n",
              "      <td>38294.0</td>\n",
              "      <td>26.0</td>\n",
              "      <td>27</td>\n",
              "      <td>1</td>\n",
              "    </tr>\n",
              "    <tr>\n",
              "      <th>3</th>\n",
              "      <td>4</td>\n",
              "      <td>Male</td>\n",
              "      <td>21</td>\n",
              "      <td>1</td>\n",
              "      <td>11.0</td>\n",
              "      <td>1</td>\n",
              "      <td>&lt; 1 Year</td>\n",
              "      <td>No</td>\n",
              "      <td>28619.0</td>\n",
              "      <td>152.0</td>\n",
              "      <td>203</td>\n",
              "      <td>0</td>\n",
              "    </tr>\n",
              "    <tr>\n",
              "      <th>4</th>\n",
              "      <td>5</td>\n",
              "      <td>Female</td>\n",
              "      <td>29</td>\n",
              "      <td>1</td>\n",
              "      <td>41.0</td>\n",
              "      <td>1</td>\n",
              "      <td>&lt; 1 Year</td>\n",
              "      <td>No</td>\n",
              "      <td>27496.0</td>\n",
              "      <td>152.0</td>\n",
              "      <td>39</td>\n",
              "      <td>0</td>\n",
              "    </tr>\n",
              "  </tbody>\n",
              "</table>\n",
              "</div>"
            ],
            "text/plain": [
              "   id  Gender  Age  ...  Policy_Sales_Channel  Vintage  Response\n",
              "0   1    Male   44  ...                  26.0      217         1\n",
              "1   2    Male   76  ...                  26.0      183         0\n",
              "2   3    Male   47  ...                  26.0       27         1\n",
              "3   4    Male   21  ...                 152.0      203         0\n",
              "4   5  Female   29  ...                 152.0       39         0\n",
              "\n",
              "[5 rows x 12 columns]"
            ]
          },
          "metadata": {
            "tags": []
          },
          "execution_count": 12
        }
      ]
    },
    {
      "cell_type": "code",
      "metadata": {
        "id": "YVemW7jgjuqm"
      },
      "source": [
        "# converting all non-numerical values to numerical\n",
        "insu['Gender'].replace('Female', 0,inplace=True)\n",
        "insu['Gender'].replace('Male', 1,inplace=True)\n",
        "\n",
        "insu['Vehicle_Damage'].replace('No', 0,inplace=True)\n",
        "insu['Vehicle_Damage'].replace('Yes', 1,inplace=True)\n",
        "\n",
        "insu['Vehicle_Age'].replace('< 1 Year', 0,inplace=True)\n",
        "insu['Vehicle_Age'].replace('1-2 Year', 1,inplace=True)\n",
        "insu['Vehicle_Age'].replace('> 2 Years', 2,inplace=True)"
      ],
      "execution_count": null,
      "outputs": []
    },
    {
      "cell_type": "code",
      "metadata": {
        "id": "H-SeVD3OmYj_",
        "outputId": "60866310-317c-4fc3-c46e-40782363e330",
        "colab": {
          "base_uri": "https://localhost:8080/",
          "height": 215
        }
      },
      "source": [
        "insu.head()"
      ],
      "execution_count": null,
      "outputs": [
        {
          "output_type": "execute_result",
          "data": {
            "text/html": [
              "<div>\n",
              "<style scoped>\n",
              "    .dataframe tbody tr th:only-of-type {\n",
              "        vertical-align: middle;\n",
              "    }\n",
              "\n",
              "    .dataframe tbody tr th {\n",
              "        vertical-align: top;\n",
              "    }\n",
              "\n",
              "    .dataframe thead th {\n",
              "        text-align: right;\n",
              "    }\n",
              "</style>\n",
              "<table border=\"1\" class=\"dataframe\">\n",
              "  <thead>\n",
              "    <tr style=\"text-align: right;\">\n",
              "      <th></th>\n",
              "      <th>id</th>\n",
              "      <th>Gender</th>\n",
              "      <th>Age</th>\n",
              "      <th>Driving_License</th>\n",
              "      <th>Region_Code</th>\n",
              "      <th>Previously_Insured</th>\n",
              "      <th>Vehicle_Age</th>\n",
              "      <th>Vehicle_Damage</th>\n",
              "      <th>Annual_Premium</th>\n",
              "      <th>Policy_Sales_Channel</th>\n",
              "      <th>Vintage</th>\n",
              "      <th>Response</th>\n",
              "    </tr>\n",
              "  </thead>\n",
              "  <tbody>\n",
              "    <tr>\n",
              "      <th>0</th>\n",
              "      <td>1</td>\n",
              "      <td>1</td>\n",
              "      <td>44</td>\n",
              "      <td>1</td>\n",
              "      <td>28.0</td>\n",
              "      <td>0</td>\n",
              "      <td>2</td>\n",
              "      <td>1</td>\n",
              "      <td>40454.0</td>\n",
              "      <td>26.0</td>\n",
              "      <td>217</td>\n",
              "      <td>1</td>\n",
              "    </tr>\n",
              "    <tr>\n",
              "      <th>1</th>\n",
              "      <td>2</td>\n",
              "      <td>1</td>\n",
              "      <td>76</td>\n",
              "      <td>1</td>\n",
              "      <td>3.0</td>\n",
              "      <td>0</td>\n",
              "      <td>1</td>\n",
              "      <td>0</td>\n",
              "      <td>33536.0</td>\n",
              "      <td>26.0</td>\n",
              "      <td>183</td>\n",
              "      <td>0</td>\n",
              "    </tr>\n",
              "    <tr>\n",
              "      <th>2</th>\n",
              "      <td>3</td>\n",
              "      <td>1</td>\n",
              "      <td>47</td>\n",
              "      <td>1</td>\n",
              "      <td>28.0</td>\n",
              "      <td>0</td>\n",
              "      <td>2</td>\n",
              "      <td>1</td>\n",
              "      <td>38294.0</td>\n",
              "      <td>26.0</td>\n",
              "      <td>27</td>\n",
              "      <td>1</td>\n",
              "    </tr>\n",
              "    <tr>\n",
              "      <th>3</th>\n",
              "      <td>4</td>\n",
              "      <td>1</td>\n",
              "      <td>21</td>\n",
              "      <td>1</td>\n",
              "      <td>11.0</td>\n",
              "      <td>1</td>\n",
              "      <td>0</td>\n",
              "      <td>0</td>\n",
              "      <td>28619.0</td>\n",
              "      <td>152.0</td>\n",
              "      <td>203</td>\n",
              "      <td>0</td>\n",
              "    </tr>\n",
              "    <tr>\n",
              "      <th>4</th>\n",
              "      <td>5</td>\n",
              "      <td>0</td>\n",
              "      <td>29</td>\n",
              "      <td>1</td>\n",
              "      <td>41.0</td>\n",
              "      <td>1</td>\n",
              "      <td>0</td>\n",
              "      <td>0</td>\n",
              "      <td>27496.0</td>\n",
              "      <td>152.0</td>\n",
              "      <td>39</td>\n",
              "      <td>0</td>\n",
              "    </tr>\n",
              "  </tbody>\n",
              "</table>\n",
              "</div>"
            ],
            "text/plain": [
              "   id  Gender  Age  ...  Policy_Sales_Channel  Vintage  Response\n",
              "0   1       1   44  ...                  26.0      217         1\n",
              "1   2       1   76  ...                  26.0      183         0\n",
              "2   3       1   47  ...                  26.0       27         1\n",
              "3   4       1   21  ...                 152.0      203         0\n",
              "4   5       0   29  ...                 152.0       39         0\n",
              "\n",
              "[5 rows x 12 columns]"
            ]
          },
          "metadata": {
            "tags": []
          },
          "execution_count": 14
        }
      ]
    },
    {
      "cell_type": "code",
      "metadata": {
        "id": "YjyfLRBp1LZk",
        "outputId": "16c4adb3-0da2-43c2-cdbb-f3863539ad62",
        "colab": {
          "base_uri": "https://localhost:8080/",
          "height": 379
        }
      },
      "source": [
        "# checking if there is any null values in the dataset\n",
        "sns.heatmap(insu.isnull(),yticklabels=False,cbar=False,cmap='viridis')"
      ],
      "execution_count": null,
      "outputs": [
        {
          "output_type": "execute_result",
          "data": {
            "text/plain": [
              "<matplotlib.axes._subplots.AxesSubplot at 0x7f6d69bbd828>"
            ]
          },
          "metadata": {
            "tags": []
          },
          "execution_count": 15
        },
        {
          "output_type": "display_data",
          "data": {
            "image/png": "[encoded data removed]",
            "text/plain": [
              "<Figure size 432x288 with 1 Axes>"
            ]
          },
          "metadata": {
            "tags": [],
            "needs_background": "light"
          }
        }
      ]
    },
    {
      "cell_type": "markdown",
      "metadata": {
        "id": "wJE-Mkc31drL"
      },
      "source": [
        "luckily we don't have any null or missing values in our dataset :) "
      ]
    },
    {
      "cell_type": "code",
      "metadata": {
        "id": "54p9R33-nmKq"
      },
      "source": [
        "# normalizing the feature vectors\n",
        "min = insu.min(axis=0)\n",
        "max = insu.max(axis=0)\n",
        "norm_features = (insu - min) / (max - min)"
      ],
      "execution_count": null,
      "outputs": []
    },
    {
      "cell_type": "code",
      "metadata": {
        "id": "98Pv4iDwnbuI",
        "outputId": "badef966-fe98-4305-81ed-6fde67ff00d3",
        "colab": {
          "base_uri": "https://localhost:8080/",
          "height": 422
        }
      },
      "source": [
        "norm_features"
      ],
      "execution_count": null,
      "outputs": [
        {
          "output_type": "execute_result",
          "data": {
            "text/html": [
              "<div>\n",
              "<style scoped>\n",
              "    .dataframe tbody tr th:only-of-type {\n",
              "        vertical-align: middle;\n",
              "    }\n",
              "\n",
              "    .dataframe tbody tr th {\n",
              "        vertical-align: top;\n",
              "    }\n",
              "\n",
              "    .dataframe thead th {\n",
              "        text-align: right;\n",
              "    }\n",
              "</style>\n",
              "<table border=\"1\" class=\"dataframe\">\n",
              "  <thead>\n",
              "    <tr style=\"text-align: right;\">\n",
              "      <th></th>\n",
              "      <th>id</th>\n",
              "      <th>Gender</th>\n",
              "      <th>Age</th>\n",
              "      <th>Driving_License</th>\n",
              "      <th>Region_Code</th>\n",
              "      <th>Previously_Insured</th>\n",
              "      <th>Vehicle_Age</th>\n",
              "      <th>Vehicle_Damage</th>\n",
              "      <th>Annual_Premium</th>\n",
              "      <th>Policy_Sales_Channel</th>\n",
              "      <th>Vintage</th>\n",
              "      <th>Response</th>\n",
              "    </tr>\n",
              "  </thead>\n",
              "  <tbody>\n",
              "    <tr>\n",
              "      <th>0</th>\n",
              "      <td>0.000000</td>\n",
              "      <td>1.0</td>\n",
              "      <td>0.369231</td>\n",
              "      <td>1.0</td>\n",
              "      <td>0.538462</td>\n",
              "      <td>0.0</td>\n",
              "      <td>1.0</td>\n",
              "      <td>1.0</td>\n",
              "      <td>0.070366</td>\n",
              "      <td>0.154321</td>\n",
              "      <td>0.716263</td>\n",
              "      <td>1.0</td>\n",
              "    </tr>\n",
              "    <tr>\n",
              "      <th>1</th>\n",
              "      <td>0.000003</td>\n",
              "      <td>1.0</td>\n",
              "      <td>0.861538</td>\n",
              "      <td>1.0</td>\n",
              "      <td>0.057692</td>\n",
              "      <td>0.0</td>\n",
              "      <td>0.5</td>\n",
              "      <td>0.0</td>\n",
              "      <td>0.057496</td>\n",
              "      <td>0.154321</td>\n",
              "      <td>0.598616</td>\n",
              "      <td>0.0</td>\n",
              "    </tr>\n",
              "    <tr>\n",
              "      <th>2</th>\n",
              "      <td>0.000005</td>\n",
              "      <td>1.0</td>\n",
              "      <td>0.415385</td>\n",
              "      <td>1.0</td>\n",
              "      <td>0.538462</td>\n",
              "      <td>0.0</td>\n",
              "      <td>1.0</td>\n",
              "      <td>1.0</td>\n",
              "      <td>0.066347</td>\n",
              "      <td>0.154321</td>\n",
              "      <td>0.058824</td>\n",
              "      <td>1.0</td>\n",
              "    </tr>\n",
              "    <tr>\n",
              "      <th>3</th>\n",
              "      <td>0.000008</td>\n",
              "      <td>1.0</td>\n",
              "      <td>0.015385</td>\n",
              "      <td>1.0</td>\n",
              "      <td>0.211538</td>\n",
              "      <td>1.0</td>\n",
              "      <td>0.0</td>\n",
              "      <td>0.0</td>\n",
              "      <td>0.048348</td>\n",
              "      <td>0.932099</td>\n",
              "      <td>0.667820</td>\n",
              "      <td>0.0</td>\n",
              "    </tr>\n",
              "    <tr>\n",
              "      <th>4</th>\n",
              "      <td>0.000010</td>\n",
              "      <td>0.0</td>\n",
              "      <td>0.138462</td>\n",
              "      <td>1.0</td>\n",
              "      <td>0.788462</td>\n",
              "      <td>1.0</td>\n",
              "      <td>0.0</td>\n",
              "      <td>0.0</td>\n",
              "      <td>0.046259</td>\n",
              "      <td>0.932099</td>\n",
              "      <td>0.100346</td>\n",
              "      <td>0.0</td>\n",
              "    </tr>\n",
              "    <tr>\n",
              "      <th>...</th>\n",
              "      <td>...</td>\n",
              "      <td>...</td>\n",
              "      <td>...</td>\n",
              "      <td>...</td>\n",
              "      <td>...</td>\n",
              "      <td>...</td>\n",
              "      <td>...</td>\n",
              "      <td>...</td>\n",
              "      <td>...</td>\n",
              "      <td>...</td>\n",
              "      <td>...</td>\n",
              "      <td>...</td>\n",
              "    </tr>\n",
              "    <tr>\n",
              "      <th>381104</th>\n",
              "      <td>0.999990</td>\n",
              "      <td>1.0</td>\n",
              "      <td>0.830769</td>\n",
              "      <td>1.0</td>\n",
              "      <td>0.500000</td>\n",
              "      <td>1.0</td>\n",
              "      <td>0.5</td>\n",
              "      <td>0.0</td>\n",
              "      <td>0.051234</td>\n",
              "      <td>0.154321</td>\n",
              "      <td>0.269896</td>\n",
              "      <td>0.0</td>\n",
              "    </tr>\n",
              "    <tr>\n",
              "      <th>381105</th>\n",
              "      <td>0.999992</td>\n",
              "      <td>1.0</td>\n",
              "      <td>0.153846</td>\n",
              "      <td>1.0</td>\n",
              "      <td>0.711538</td>\n",
              "      <td>1.0</td>\n",
              "      <td>0.0</td>\n",
              "      <td>0.0</td>\n",
              "      <td>0.069551</td>\n",
              "      <td>0.932099</td>\n",
              "      <td>0.418685</td>\n",
              "      <td>0.0</td>\n",
              "    </tr>\n",
              "    <tr>\n",
              "      <th>381106</th>\n",
              "      <td>0.999995</td>\n",
              "      <td>1.0</td>\n",
              "      <td>0.015385</td>\n",
              "      <td>1.0</td>\n",
              "      <td>0.576923</td>\n",
              "      <td>1.0</td>\n",
              "      <td>0.0</td>\n",
              "      <td>0.0</td>\n",
              "      <td>0.060439</td>\n",
              "      <td>0.981481</td>\n",
              "      <td>0.522491</td>\n",
              "      <td>0.0</td>\n",
              "    </tr>\n",
              "    <tr>\n",
              "      <th>381107</th>\n",
              "      <td>0.999997</td>\n",
              "      <td>0.0</td>\n",
              "      <td>0.738462</td>\n",
              "      <td>1.0</td>\n",
              "      <td>0.269231</td>\n",
              "      <td>0.0</td>\n",
              "      <td>1.0</td>\n",
              "      <td>1.0</td>\n",
              "      <td>0.078110</td>\n",
              "      <td>0.759259</td>\n",
              "      <td>0.221453</td>\n",
              "      <td>0.0</td>\n",
              "    </tr>\n",
              "    <tr>\n",
              "      <th>381108</th>\n",
              "      <td>1.000000</td>\n",
              "      <td>1.0</td>\n",
              "      <td>0.400000</td>\n",
              "      <td>1.0</td>\n",
              "      <td>0.557692</td>\n",
              "      <td>0.0</td>\n",
              "      <td>0.5</td>\n",
              "      <td>0.0</td>\n",
              "      <td>0.072827</td>\n",
              "      <td>0.154321</td>\n",
              "      <td>0.785467</td>\n",
              "      <td>0.0</td>\n",
              "    </tr>\n",
              "  </tbody>\n",
              "</table>\n",
              "<p>381109 rows × 12 columns</p>\n",
              "</div>"
            ],
            "text/plain": [
              "              id  Gender       Age  ...  Policy_Sales_Channel   Vintage  Response\n",
              "0       0.000000     1.0  0.369231  ...              0.154321  0.716263       1.0\n",
              "1       0.000003     1.0  0.861538  ...              0.154321  0.598616       0.0\n",
              "2       0.000005     1.0  0.415385  ...              0.154321  0.058824       1.0\n",
              "3       0.000008     1.0  0.015385  ...              0.932099  0.667820       0.0\n",
              "4       0.000010     0.0  0.138462  ...              0.932099  0.100346       0.0\n",
              "...          ...     ...       ...  ...                   ...       ...       ...\n",
              "381104  0.999990     1.0  0.830769  ...              0.154321  0.269896       0.0\n",
              "381105  0.999992     1.0  0.153846  ...              0.932099  0.418685       0.0\n",
              "381106  0.999995     1.0  0.015385  ...              0.981481  0.522491       0.0\n",
              "381107  0.999997     0.0  0.738462  ...              0.759259  0.221453       0.0\n",
              "381108  1.000000     1.0  0.400000  ...              0.154321  0.785467       0.0\n",
              "\n",
              "[381109 rows x 12 columns]"
            ]
          },
          "metadata": {
            "tags": []
          },
          "execution_count": 17
        }
      ]
    },
    {
      "cell_type": "code",
      "metadata": {
        "id": "IW-3W82SqBn5",
        "outputId": "2ddd4a28-a1a6-45de-fa32-7d25bc43aa13",
        "colab": {
          "base_uri": "https://localhost:8080/",
          "height": 422
        }
      },
      "source": [
        "# taking a look at correlation matrix to remove any highly correlated feature \n",
        "# which can cause redundancy or make our model slower\n",
        "norm_features.corr()"
      ],
      "execution_count": null,
      "outputs": [
        {
          "output_type": "execute_result",
          "data": {
            "text/html": [
              "<div>\n",
              "<style scoped>\n",
              "    .dataframe tbody tr th:only-of-type {\n",
              "        vertical-align: middle;\n",
              "    }\n",
              "\n",
              "    .dataframe tbody tr th {\n",
              "        vertical-align: top;\n",
              "    }\n",
              "\n",
              "    .dataframe thead th {\n",
              "        text-align: right;\n",
              "    }\n",
              "</style>\n",
              "<table border=\"1\" class=\"dataframe\">\n",
              "  <thead>\n",
              "    <tr style=\"text-align: right;\">\n",
              "      <th></th>\n",
              "      <th>id</th>\n",
              "      <th>Gender</th>\n",
              "      <th>Age</th>\n",
              "      <th>Driving_License</th>\n",
              "      <th>Region_Code</th>\n",
              "      <th>Previously_Insured</th>\n",
              "      <th>Vehicle_Age</th>\n",
              "      <th>Vehicle_Damage</th>\n",
              "      <th>Annual_Premium</th>\n",
              "      <th>Policy_Sales_Channel</th>\n",
              "      <th>Vintage</th>\n",
              "      <th>Response</th>\n",
              "    </tr>\n",
              "  </thead>\n",
              "  <tbody>\n",
              "    <tr>\n",
              "      <th>id</th>\n",
              "      <td>1.000000</td>\n",
              "      <td>0.000999</td>\n",
              "      <td>0.001561</td>\n",
              "      <td>-0.000564</td>\n",
              "      <td>-0.000572</td>\n",
              "      <td>0.002457</td>\n",
              "      <td>0.000878</td>\n",
              "      <td>-0.001507</td>\n",
              "      <td>0.003027</td>\n",
              "      <td>-0.002837</td>\n",
              "      <td>-0.000630</td>\n",
              "      <td>-0.001368</td>\n",
              "    </tr>\n",
              "    <tr>\n",
              "      <th>Gender</th>\n",
              "      <td>0.000999</td>\n",
              "      <td>1.000000</td>\n",
              "      <td>0.145545</td>\n",
              "      <td>-0.018374</td>\n",
              "      <td>0.000604</td>\n",
              "      <td>-0.081932</td>\n",
              "      <td>0.160427</td>\n",
              "      <td>0.091606</td>\n",
              "      <td>0.003673</td>\n",
              "      <td>-0.111159</td>\n",
              "      <td>-0.002517</td>\n",
              "      <td>0.052440</td>\n",
              "    </tr>\n",
              "    <tr>\n",
              "      <th>Age</th>\n",
              "      <td>0.001561</td>\n",
              "      <td>0.145545</td>\n",
              "      <td>1.000000</td>\n",
              "      <td>-0.079782</td>\n",
              "      <td>0.042574</td>\n",
              "      <td>-0.254682</td>\n",
              "      <td>0.765790</td>\n",
              "      <td>0.267534</td>\n",
              "      <td>0.067507</td>\n",
              "      <td>-0.577826</td>\n",
              "      <td>-0.001264</td>\n",
              "      <td>0.111147</td>\n",
              "    </tr>\n",
              "    <tr>\n",
              "      <th>Driving_License</th>\n",
              "      <td>-0.000564</td>\n",
              "      <td>-0.018374</td>\n",
              "      <td>-0.079782</td>\n",
              "      <td>1.000000</td>\n",
              "      <td>-0.001081</td>\n",
              "      <td>0.014969</td>\n",
              "      <td>-0.037306</td>\n",
              "      <td>-0.016622</td>\n",
              "      <td>-0.011906</td>\n",
              "      <td>0.043731</td>\n",
              "      <td>-0.000848</td>\n",
              "      <td>0.010155</td>\n",
              "    </tr>\n",
              "    <tr>\n",
              "      <th>Region_Code</th>\n",
              "      <td>-0.000572</td>\n",
              "      <td>0.000604</td>\n",
              "      <td>0.042574</td>\n",
              "      <td>-0.001081</td>\n",
              "      <td>1.000000</td>\n",
              "      <td>-0.024659</td>\n",
              "      <td>0.043778</td>\n",
              "      <td>0.028235</td>\n",
              "      <td>-0.010588</td>\n",
              "      <td>-0.042420</td>\n",
              "      <td>-0.002750</td>\n",
              "      <td>0.010570</td>\n",
              "    </tr>\n",
              "    <tr>\n",
              "      <th>Previously_Insured</th>\n",
              "      <td>0.002457</td>\n",
              "      <td>-0.081932</td>\n",
              "      <td>-0.254682</td>\n",
              "      <td>0.014969</td>\n",
              "      <td>-0.024659</td>\n",
              "      <td>1.000000</td>\n",
              "      <td>-0.380873</td>\n",
              "      <td>-0.824143</td>\n",
              "      <td>0.004269</td>\n",
              "      <td>0.219381</td>\n",
              "      <td>0.002537</td>\n",
              "      <td>-0.341170</td>\n",
              "    </tr>\n",
              "    <tr>\n",
              "      <th>Vehicle_Age</th>\n",
              "      <td>0.000878</td>\n",
              "      <td>0.160427</td>\n",
              "      <td>0.765790</td>\n",
              "      <td>-0.037306</td>\n",
              "      <td>0.043778</td>\n",
              "      <td>-0.380873</td>\n",
              "      <td>1.000000</td>\n",
              "      <td>0.396873</td>\n",
              "      <td>0.041580</td>\n",
              "      <td>-0.550663</td>\n",
              "      <td>-0.001892</td>\n",
              "      <td>0.221874</td>\n",
              "    </tr>\n",
              "    <tr>\n",
              "      <th>Vehicle_Damage</th>\n",
              "      <td>-0.001507</td>\n",
              "      <td>0.091606</td>\n",
              "      <td>0.267534</td>\n",
              "      <td>-0.016622</td>\n",
              "      <td>0.028235</td>\n",
              "      <td>-0.824143</td>\n",
              "      <td>0.396873</td>\n",
              "      <td>1.000000</td>\n",
              "      <td>0.009349</td>\n",
              "      <td>-0.224377</td>\n",
              "      <td>-0.002064</td>\n",
              "      <td>0.354400</td>\n",
              "    </tr>\n",
              "    <tr>\n",
              "      <th>Annual_Premium</th>\n",
              "      <td>0.003027</td>\n",
              "      <td>0.003673</td>\n",
              "      <td>0.067507</td>\n",
              "      <td>-0.011906</td>\n",
              "      <td>-0.010588</td>\n",
              "      <td>0.004269</td>\n",
              "      <td>0.041580</td>\n",
              "      <td>0.009349</td>\n",
              "      <td>1.000000</td>\n",
              "      <td>-0.113247</td>\n",
              "      <td>-0.000608</td>\n",
              "      <td>0.022575</td>\n",
              "    </tr>\n",
              "    <tr>\n",
              "      <th>Policy_Sales_Channel</th>\n",
              "      <td>-0.002837</td>\n",
              "      <td>-0.111159</td>\n",
              "      <td>-0.577826</td>\n",
              "      <td>0.043731</td>\n",
              "      <td>-0.042420</td>\n",
              "      <td>0.219381</td>\n",
              "      <td>-0.550663</td>\n",
              "      <td>-0.224377</td>\n",
              "      <td>-0.113247</td>\n",
              "      <td>1.000000</td>\n",
              "      <td>0.000002</td>\n",
              "      <td>-0.139042</td>\n",
              "    </tr>\n",
              "    <tr>\n",
              "      <th>Vintage</th>\n",
              "      <td>-0.000630</td>\n",
              "      <td>-0.002517</td>\n",
              "      <td>-0.001264</td>\n",
              "      <td>-0.000848</td>\n",
              "      <td>-0.002750</td>\n",
              "      <td>0.002537</td>\n",
              "      <td>-0.001892</td>\n",
              "      <td>-0.002064</td>\n",
              "      <td>-0.000608</td>\n",
              "      <td>0.000002</td>\n",
              "      <td>1.000000</td>\n",
              "      <td>-0.001050</td>\n",
              "    </tr>\n",
              "    <tr>\n",
              "      <th>Response</th>\n",
              "      <td>-0.001368</td>\n",
              "      <td>0.052440</td>\n",
              "      <td>0.111147</td>\n",
              "      <td>0.010155</td>\n",
              "      <td>0.010570</td>\n",
              "      <td>-0.341170</td>\n",
              "      <td>0.221874</td>\n",
              "      <td>0.354400</td>\n",
              "      <td>0.022575</td>\n",
              "      <td>-0.139042</td>\n",
              "      <td>-0.001050</td>\n",
              "      <td>1.000000</td>\n",
              "    </tr>\n",
              "  </tbody>\n",
              "</table>\n",
              "</div>"
            ],
            "text/plain": [
              "                            id    Gender  ...   Vintage  Response\n",
              "id                    1.000000  0.000999  ... -0.000630 -0.001368\n",
              "Gender                0.000999  1.000000  ... -0.002517  0.052440\n",
              "Age                   0.001561  0.145545  ... -0.001264  0.111147\n",
              "Driving_License      -0.000564 -0.018374  ... -0.000848  0.010155\n",
              "Region_Code          -0.000572  0.000604  ... -0.002750  0.010570\n",
              "Previously_Insured    0.002457 -0.081932  ...  0.002537 -0.341170\n",
              "Vehicle_Age           0.000878  0.160427  ... -0.001892  0.221874\n",
              "Vehicle_Damage       -0.001507  0.091606  ... -0.002064  0.354400\n",
              "Annual_Premium        0.003027  0.003673  ... -0.000608  0.022575\n",
              "Policy_Sales_Channel -0.002837 -0.111159  ...  0.000002 -0.139042\n",
              "Vintage              -0.000630 -0.002517  ...  1.000000 -0.001050\n",
              "Response             -0.001368  0.052440  ... -0.001050  1.000000\n",
              "\n",
              "[12 rows x 12 columns]"
            ]
          },
          "metadata": {
            "tags": []
          },
          "execution_count": 18
        }
      ]
    },
    {
      "cell_type": "code",
      "metadata": {
        "id": "23LdPVu-JSxC"
      },
      "source": [
        "norm_features.to_csv(\"/content/sample_data/train_processed.csv\")\n",
        "norm_features.corr().to_csv(\"/content/sample_data/correaltion_matrix.csv\")"
      ],
      "execution_count": null,
      "outputs": []
    },
    {
      "cell_type": "code",
      "metadata": {
        "id": "dwJVhH0mwvY2"
      },
      "source": [
        "# removing highly correlated features\n",
        "norm_features = norm_features.drop('Vehicle_Age', axis =1)\n",
        "norm_features = norm_features.drop('Previously_Insured', axis =1)"
      ],
      "execution_count": null,
      "outputs": []
    },
    {
      "cell_type": "code",
      "metadata": {
        "id": "N8tCwjtp9dC8"
      },
      "source": [
        "#splitting train and test set in 75/25 ratio\n",
        "trainX, testX, trainY, testY = train_test_split(insu.drop('Response',axis=1),insu['Response'], test_size=0.25,random_state=101)"
      ],
      "execution_count": null,
      "outputs": []
    },
    {
      "cell_type": "code",
      "metadata": {
        "id": "Jq9c4jwCs_Jp"
      },
      "source": [
        "trainY = pd.DataFrame(trainY).to_numpy()"
      ],
      "execution_count": null,
      "outputs": []
    },
    {
      "cell_type": "code",
      "metadata": {
        "id": "T2d_MU6ApguV"
      },
      "source": [
        "params = {\n",
        "    'objective': 'binary:logistic',\n",
        "    'max_depth': 5,\n",
        "    'learning_rate': 0.05,\n",
        "    'silent': True,\n",
        "    'n_estimators': 5\n",
        "}\n",
        "\n",
        "model = XGBClassifier(**params).fit(trainX, trainY.ravel())"
      ],
      "execution_count": null,
      "outputs": []
    },
    {
      "cell_type": "code",
      "metadata": {
        "id": "atuAhO7-rocp"
      },
      "source": [
        "y_pred = model.predict(testX)"
      ],
      "execution_count": null,
      "outputs": []
    },
    {
      "cell_type": "code",
      "metadata": {
        "id": "tNUJesNfsex9",
        "outputId": "f841da6a-281f-4206-efef-f0eabfa91b6d",
        "colab": {
          "base_uri": "https://localhost:8080/",
          "height": 185
        }
      },
      "source": [
        "print(classification_report(testY, y_pred))\n",
        "print(\"Accuracy:\",metrics.accuracy_score(testY, y_pred))"
      ],
      "execution_count": null,
      "outputs": [
        {
          "output_type": "stream",
          "text": [
            "              precision    recall  f1-score   support\n",
            "\n",
            "           0       0.88      1.00      0.94     83703\n",
            "           1       0.00      0.00      0.00     11575\n",
            "\n",
            "    accuracy                           0.88     95278\n",
            "   macro avg       0.44      0.50      0.47     95278\n",
            "weighted avg       0.77      0.88      0.82     95278\n",
            "\n",
            "Accuracy: 0.8784924116795063\n"
          ],
          "name": "stdout"
        }
      ]
    },
    {
      "cell_type": "code",
      "metadata": {
        "id": "jTVONaa2xYo6",
        "outputId": "e6cdfffa-706d-41b7-881f-db4b4263b258",
        "colab": {
          "base_uri": "https://localhost:8080/",
          "height": 34
        }
      },
      "source": [
        "model.score(testX, testY)"
      ],
      "execution_count": null,
      "outputs": [
        {
          "output_type": "execute_result",
          "data": {
            "text/plain": [
              "0.8784924116795063"
            ]
          },
          "metadata": {
            "tags": []
          },
          "execution_count": 26
        }
      ]
    },
    {
      "cell_type": "code",
      "metadata": {
        "id": "dpzKj0WIxpad",
        "outputId": "49dbdf57-575c-4041-d629-2143d37316d7",
        "colab": {
          "base_uri": "https://localhost:8080/",
          "height": 34
        }
      },
      "source": [
        "rmse = mean_squared_error(y_pred, testY)\n",
        "rmse"
      ],
      "execution_count": null,
      "outputs": [
        {
          "output_type": "execute_result",
          "data": {
            "text/plain": [
              "0.12150758832049371"
            ]
          },
          "metadata": {
            "tags": []
          },
          "execution_count": 27
        }
      ]
    },
    {
      "cell_type": "code",
      "metadata": {
        "id": "eXsYrdwSx_hh"
      },
      "source": [
        ""
      ],
      "execution_count": null,
      "outputs": []
    }
  ]
}